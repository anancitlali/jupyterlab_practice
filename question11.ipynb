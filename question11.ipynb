{
 "cells": [
  {
   "cell_type": "markdown",
   "id": "6fdb86be-c22a-472a-af75-7fb552941dde",
   "metadata": {},
   "source": [
    "# Citlali Márquez\n",
    "Notebook for assignment 7"
   ]
  },
  {
   "cell_type": "code",
   "execution_count": 1,
   "id": "bbd1a782-803c-46e0-b0b4-dad162e150cf",
   "metadata": {},
   "outputs": [
    {
     "name": "stdout",
     "output_type": "stream",
     "text": [
      "5.0\n"
     ]
    }
   ],
   "source": [
    "def compute_mean(values):\n",
    "    mean = sum(values) / len(values)\n",
    "    print(mean)\n",
    "\n",
    "compute_mean([2, 4, 6, 8])"
   ]
  },
  {
   "cell_type": "markdown",
   "id": "eb27d70a-1e46-4d21-ad4c-bc1d6ce90d27",
   "metadata": {},
   "source": [
    "\\[ \\mu = \\frac{1}{n} \\sum_{i=1}^{n} x_i \\]"
   ]
  },
  {
   "cell_type": "code",
   "execution_count": null,
   "id": "62992952-d2f4-40c6-b8d4-279192252e80",
   "metadata": {},
   "outputs": [],
   "source": []
  }
 ],
 "metadata": {
  "kernelspec": {
   "display_name": "Python [conda env:environment-2]",
   "language": "python",
   "name": "conda-env-environment-2-py"
  },
  "language_info": {
   "codemirror_mode": {
    "name": "ipython",
    "version": 3
   },
   "file_extension": ".py",
   "mimetype": "text/x-python",
   "name": "python",
   "nbconvert_exporter": "python",
   "pygments_lexer": "ipython3",
   "version": "3.12.2"
  }
 },
 "nbformat": 4,
 "nbformat_minor": 5
}
