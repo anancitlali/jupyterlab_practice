{
 "cells": [
  {
   "cell_type": "markdown",
   "id": "6fdb86be-c22a-472a-af75-7fb552941dde",
   "metadata": {},
   "source": [
    "# Citlali Márquez\n",
    "Notebook for assignment 7"
   ]
  },
  {
   "cell_type": "code",
   "execution_count": 2,
   "id": "bbd1a782-803c-46e0-b0b4-dad162e150cf",
   "metadata": {},
   "outputs": [
    {
     "name": "stdout",
     "output_type": "stream",
     "text": [
      "5.0\n"
     ]
    }
   ],
   "source": [
    "def compute_mean(values):\n",
    "    mean = sum(values) / len(values)\n",
    "    print(mean)\n",
    "\n",
    "compute_mean([2, 4, 6, 8])"
   ]
  },
  {
   "cell_type": "markdown",
   "id": "eb27d70a-1e46-4d21-ad4c-bc1d6ce90d27",
   "metadata": {},
   "source": [
    "The code provided calculates the mean of the list `[2, 4, 6, 8]` \n",
    "$$\n",
    "\\overline {x}= \\frac{x_1+x_2+...+x_n}{n}= \\frac{1}{n} \\Bigg (\\sum_{i=1}^{n} x_i \\Bigg)\n",
    "$$"
   ]
  },
  {
   "cell_type": "markdown",
   "id": "f5922d12-e197-4cf1-8d9d-512425bf9525",
   "metadata": {},
   "source": [
    "<img src=\"image/jupyterlab_img.png\" width=50% >"
   ]
  },
  {
   "cell_type": "code",
   "execution_count": null,
   "id": "370de93b-72e6-46a5-8ff5-aa138f01da49",
   "metadata": {},
   "outputs": [],
   "source": []
  }
 ],
 "metadata": {
  "kernelspec": {
   "display_name": "Python [conda env:environment-2]",
   "language": "python",
   "name": "conda-env-environment-2-py"
  },
  "language_info": {
   "codemirror_mode": {
    "name": "ipython",
    "version": 3
   },
   "file_extension": ".py",
   "mimetype": "text/x-python",
   "name": "python",
   "nbconvert_exporter": "python",
   "pygments_lexer": "ipython3",
   "version": "3.12.2"
  }
 },
 "nbformat": 4,
 "nbformat_minor": 5
}
