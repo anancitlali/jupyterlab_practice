{
 "cells": [
  {
   "cell_type": "markdown",
   "id": "444d8cf0-70f2-4179-a1bb-ac25318ad36b",
   "metadata": {},
   "source": [
    "We are currently working in the following directory:"
   ]
  }
 ],
 "metadata": {
  "kernelspec": {
   "display_name": "Python [conda env:environment-2]",
   "language": "python",
   "name": "conda-env-environment-2-py"
  },
  "language_info": {
   "codemirror_mode": {
    "name": "ipython",
    "version": 3
   },
   "file_extension": ".py",
   "mimetype": "text/x-python",
   "name": "python",
   "nbconvert_exporter": "python",
   "pygments_lexer": "ipython3",
   "version": "3.12.2"
  }
 },
 "nbformat": 4,
 "nbformat_minor": 5
}
