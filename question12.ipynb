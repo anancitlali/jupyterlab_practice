{
 "cells": [
  {
   "cell_type": "markdown",
   "id": "444d8cf0-70f2-4179-a1bb-ac25318ad36b",
   "metadata": {},
   "source": [
    "We are currently working in the following directory:"
   ]
  },
  {
   "cell_type": "code",
   "execution_count": 1,
   "id": "c5bab703-5381-43a9-836d-6ae6a7d4fcad",
   "metadata": {},
   "outputs": [
    {
     "name": "stdout",
     "output_type": "stream",
     "text": [
      "/Users/citlalimarquez/Desktop/jupyterlab_practice\n"
     ]
    }
   ],
   "source": [
    "!pwd"
   ]
  },
  {
   "cell_type": "markdown",
   "id": "24f288d4-a6c6-4c3d-867c-af728b8aa73c",
   "metadata": {},
   "source": [
    "To time how long it takes to run a Python cell, we could use the timeit command inside a cell as is shown below: Followed by the proper use of the timeit command to time the following loop:\n",
    "```\n",
    "for i in range(1_000_000):\n",
    "    i**2\n",
    "```"
   ]
  },
  {
   "cell_type": "code",
   "execution_count": 2,
   "id": "fe30838c-6b63-40df-b1eb-5570aece5d6b",
   "metadata": {},
   "outputs": [
    {
     "name": "stdout",
     "output_type": "stream",
     "text": [
      "[NbConvertApp] Converting notebook question12.ipynb to html\n",
      "[NbConvertApp] Writing 271179 bytes to question12.html\n"
     ]
    }
   ],
   "source": [
    "!jupyter nbconvert question12.ipynb \\\n",
    "    --to html \\\n",
    "    --output=question12.html \\\n",
    "    --no-input"
   ]
  },
  {
   "cell_type": "markdown",
   "id": "7db4d5a4-9e21-484b-842b-6817c5ab24ed",
   "metadata": {},
   "source": [
    "<img src=\"image/question12_img.png\" width=50% >"
   ]
  },
  {
   "cell_type": "code",
   "execution_count": null,
   "id": "ba2c26d8-3206-40fe-94bd-0c135bb48a7b",
   "metadata": {},
   "outputs": [],
   "source": []
  }
 ],
 "metadata": {
  "kernelspec": {
   "display_name": "Python [conda env:environment-2]",
   "language": "python",
   "name": "conda-env-environment-2-py"
  },
  "language_info": {
   "codemirror_mode": {
    "name": "ipython",
    "version": 3
   },
   "file_extension": ".py",
   "mimetype": "text/x-python",
   "name": "python",
   "nbconvert_exporter": "python",
   "pygments_lexer": "ipython3",
   "version": "3.12.2"
  }
 },
 "nbformat": 4,
 "nbformat_minor": 5
}
